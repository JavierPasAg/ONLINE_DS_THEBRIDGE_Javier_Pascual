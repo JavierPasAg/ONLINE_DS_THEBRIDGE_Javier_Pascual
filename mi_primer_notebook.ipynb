{
 "cells": [
  {
   "cell_type": "code",
   "execution_count": 2,
   "id": "8b0577ae-f131-4a0a-8fde-d5de5d2b9a79",
   "metadata": {},
   "outputs": [
    {
     "name": "stdout",
     "output_type": "stream",
     "text": [
      "Hola Abundio\n"
     ]
    }
   ],
   "source": [
    "print(\"Hola Abundio\")"
   ]
  },
  {
   "cell_type": "markdown",
   "id": "3ff7bd91-717a-4fbb-9496-116eda071d23",
   "metadata": {},
   "source": [
    "**Yess** Hola Mundo"
   ]
  },
  {
   "cell_type": "code",
   "execution_count": null,
   "id": "4965e2dc-c74e-4cbd-a342-7319316e211b",
   "metadata": {},
   "outputs": [],
   "source": []
  }
 ],
 "metadata": {
  "kernelspec": {
   "display_name": "venv (3.13.4)",
   "language": "python",
   "name": "python3"
  },
  "language_info": {
   "codemirror_mode": {
    "name": "ipython",
    "version": 3
   },
   "file_extension": ".py",
   "mimetype": "text/x-python",
   "name": "python",
   "nbconvert_exporter": "python",
   "pygments_lexer": "ipython3",
   "version": "3.13.4"
  }
 },
 "nbformat": 4,
 "nbformat_minor": 5
}
